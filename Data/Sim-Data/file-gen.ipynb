{
 "cells": [
  {
   "cell_type": "code",
   "execution_count": 1,
   "metadata": {},
   "outputs": [],
   "source": [
    "import csv\n",
    "import numpy as np\n",
    "import matplotlib.pyplot as plt\n",
    "import pandas as pd\n",
    "import json\n",
    "\n",
    "\n",
    "from simdata_mush import HT_sim\n"
   ]
  },
  {
   "cell_type": "code",
   "execution_count": 2,
   "metadata": {},
   "outputs": [
    {
     "name": "stdout",
     "output_type": "stream",
     "text": [
      "The spatial step is 0.0003061224489795918\n",
      "The time step is 0.0012711033647622566\n"
     ]
    }
   ],
   "source": [
    "\n",
    "# length = 15e-3\n",
    "# time_end = 40.0\n",
    "# numpoints = 50\n",
    "# temp_init = 919.0\n",
    "# t_surr = 500.0\n",
    "\n",
    "with open('settings.json') as file:\n",
    "    settings = json.load(file)\n",
    "\n",
    "heat_data = HT_sim(settings)\n",
    "alpha = heat_data.alpha_l\n",
    "tempfield = heat_data.datagen()\n",
    "\n"
   ]
  },
  {
   "cell_type": "markdown",
   "metadata": {},
   "source": [
    "### Convert the file to csv"
   ]
  },
  {
   "cell_type": "code",
   "execution_count": 3,
   "metadata": {},
   "outputs": [
    {
     "name": "stdout",
     "output_type": "stream",
     "text": [
      "<class 'numpy.ndarray'>\n"
     ]
    }
   ],
   "source": [
    "print(type(tempfield))\n",
    "\n",
    "temp= tempfield.ravel()\n",
    "sp = heat_data.space_time()[0]\n",
    "x = sp.ravel()\n",
    "\n",
    "tm = heat_data.space_time()[1]\n",
    "t = tm.ravel()\n",
    "\n",
    "dataset= np.column_stack((x,t,temp))\n",
    "\n",
    "with open('heat_data.csv', 'w', newline='') as f:\n",
    "    writer = csv.writer(f)\n",
    "    writer.writerow(['x', 't', 'temp'])\n",
    "    writer.writerows(dataset)\n",
    "\n",
    "\n",
    "\n"
   ]
  },
  {
   "cell_type": "code",
   "execution_count": null,
   "metadata": {},
   "outputs": [],
   "source": [
    "\n"
   ]
  }
 ],
 "metadata": {
  "kernelspec": {
   "display_name": "pinn",
   "language": "python",
   "name": "python3"
  },
  "language_info": {
   "codemirror_mode": {
    "name": "ipython",
    "version": 3
   },
   "file_extension": ".py",
   "mimetype": "text/x-python",
   "name": "python",
   "nbconvert_exporter": "python",
   "pygments_lexer": "ipython3",
   "version": "3.13.1"
  }
 },
 "nbformat": 4,
 "nbformat_minor": 2
}
