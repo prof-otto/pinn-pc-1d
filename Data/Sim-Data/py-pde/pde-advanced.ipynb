{
 "cells": [
  {
   "cell_type": "code",
   "execution_count": 11,
   "id": "0b95fc47",
   "metadata": {},
   "outputs": [],
   "source": [
    "from pde import CartesianGrid, ScalarField, MemoryStorage, plot_kymograph,PDEBase, Boundaries\n",
    "import numpy as np\n",
    "from joblib import load\n",
    "\n",
    "import json"
   ]
  },
  {
   "cell_type": "code",
   "execution_count": 12,
   "id": "915f2b62",
   "metadata": {},
   "outputs": [],
   "source": [
    "with open(\"settings.json\",'r') as f:\n",
    "    params = json.load(f)"
   ]
  },
  {
   "cell_type": "code",
   "execution_count": 13,
   "id": "5ade4743",
   "metadata": {},
   "outputs": [],
   "source": [
    "class HeatPDE(PDEBase):\n",
    "    def __init__(self,params):\n",
    "        self.rho = params[\"rho\"]\n",
    "        self.rho_l = params[\"rho_l\"]\n",
    "        self.rho_s = params[\"rho_s\"]\n",
    "        \n",
    "        self.cp = cp\n",
    "        self.cp_s = params[\"cp_s\"]\n",
    "        self.cp_l = params[\"cp_l\"]\n",
    "        \n",
    "        self.k = params[\"k\"]\n",
    "        self.k_l =  params[\"k_l\"]\n",
    "        self.k_s = params[\"k_s\"]\n",
    "        \n",
    "        self.l_f = params[\"L_fusion\"]\n",
    "        self.T_l = params[\"T_L\"]\n",
    "        self.T_s = params[\"T_S\"]\n",
    "    \n",
    "    def k_mus(self,temp):\n",
    "        diff = self.k_s -self.k_l\n",
    "        k_mus = self.k_l + diff*(temp-self.T_s)\n",
    "        return k_mus\n",
    "    \n",
    "    \n",
    "    def cp_mus(self,temp):\n",
    "        diff = self.cp_s -self.cp_l\n",
    "        cp_mus = self.cp_l + diff*(temp-self.T_s)\n",
    "        return cp_mus\n",
    "    \n",
    "    def rho_mus(self,temp):\n",
    "        diff = self.rho_s -self.rho_l\n",
    "        rho_mus = self.rho_l + diff*(temp-self.T_s)\n",
    "        return rho_mus\n",
    "    \n",
    "    def evolution_rate(self, state, t=0):\n",
    "        T = state.data\n",
    "        grid = state.grid\n",
    "        alpha = np.zeros_like(T)\n",
    "        \n",
    "        mask_solid = T <= self.T_s\n",
    "        mask_liquid = T >= self.T_l\n",
    "        mask_mushy = (T <= self.T_l) & (T > self.T_s)\n",
    "        \n",
    "        alpha[mask_solid] = self.k_s /(self.rho_s*self.cp_s)\n",
    "        alpha[mask_liquid] = self.k_l /(self.rho_l *self.cp_l )\n",
    "        alpha[mask_mushy] = self.k_mus(T) /(self.rho_mus(T)*self.cp_mus(T) + (self.l_f /(self.T_l-self.T_s)))\n",
    "        \n",
    "        lap = state.laplace(bc=[{\"value\":800.0}, {\"value\":800.0}])\n",
    "        rate = alpha * lap\n",
    "        return ScalarField(grid,rate)\n",
    "    "
   ]
  },
  {
   "cell_type": "code",
   "execution_count": 14,
   "id": "e6550ab1",
   "metadata": {},
   "outputs": [],
   "source": [
    "length = 15.0e-3\n",
    "alpha = 1.0e-5  # diffusion coefficient\n",
    "rho = 1.5\n",
    "k = 1.34e-3\n",
    "cp =1190.0\n",
    "T_l = 890.0\n",
    "T_s = 750.0\n",
    "l_f = 389.0e3\n",
    "grid = CartesianGrid([[0, length]], [50])  # domain from 0 to 1 with 100 points"
   ]
  },
  {
   "cell_type": "code",
   "execution_count": 15,
   "id": "b9674b02",
   "metadata": {},
   "outputs": [],
   "source": [
    "state = ScalarField(grid, data=np.full(grid.shape, 919.0), with_ghost_cells=False)\n"
   ]
  },
  {
   "cell_type": "code",
   "execution_count": 20,
   "id": "1dae2c5c",
   "metadata": {},
   "outputs": [],
   "source": [
    "# Define Boundary Conditions\n",
    "\n",
    "pde = HeatPDE(params)\n",
    "\n",
    "\n"
   ]
  },
  {
   "cell_type": "code",
   "execution_count": 17,
   "id": "7b5a6218",
   "metadata": {},
   "outputs": [
    {
     "ename": "ValueError",
     "evalue": "NumPy boolean array indexing assignment cannot assign 50 input values to the 0 output values where the mask is true",
     "output_type": "error",
     "traceback": [
      "\u001b[0;31m---------------------------------------------------------------------------\u001b[0m",
      "\u001b[0;31mValueError\u001b[0m                                Traceback (most recent call last)",
      "Cell \u001b[0;32mIn[17], line 2\u001b[0m\n\u001b[1;32m      1\u001b[0m storage \u001b[38;5;241m=\u001b[39m MemoryStorage()\n\u001b[0;32m----> 2\u001b[0m pde\u001b[38;5;241m.\u001b[39msolve(state, t_range\u001b[38;5;241m=\u001b[39m\u001b[38;5;241m30.0\u001b[39m, dt\u001b[38;5;241m=\u001b[39m\u001b[38;5;241m1e-1\u001b[39m, tracker\u001b[38;5;241m=\u001b[39mstorage\u001b[38;5;241m.\u001b[39mtracker(\u001b[38;5;241m0.1\u001b[39m), solver\u001b[38;5;241m=\u001b[39m\u001b[38;5;124m\"\u001b[39m\u001b[38;5;124mscipy\u001b[39m\u001b[38;5;124m\"\u001b[39m)\n\u001b[1;32m      4\u001b[0m plot_kymograph(storage, title\u001b[38;5;241m=\u001b[39m\u001b[38;5;124m\"\u001b[39m\u001b[38;5;124mFixed Dirichlet BCs: 400 -> 400\u001b[39m\u001b[38;5;124m\"\u001b[39m)\n",
      "File \u001b[0;32m/opt/anaconda3/envs/pinn/lib/python3.13/site-packages/pde/pdes/base.py:592\u001b[0m, in \u001b[0;36mPDEBase.solve\u001b[0;34m(self, state, t_range, dt, tracker, solver, ret_info, **kwargs)\u001b[0m\n\u001b[1;32m    589\u001b[0m controller \u001b[38;5;241m=\u001b[39m Controller(solver_obj, t_range\u001b[38;5;241m=\u001b[39mt_range, tracker\u001b[38;5;241m=\u001b[39mtracker)\n\u001b[1;32m    591\u001b[0m \u001b[38;5;66;03m# run the simulation\u001b[39;00m\n\u001b[0;32m--> 592\u001b[0m final_state \u001b[38;5;241m=\u001b[39m controller\u001b[38;5;241m.\u001b[39mrun(state, dt)\n\u001b[1;32m    594\u001b[0m \u001b[38;5;66;03m# copy diagnostic information to the PDE instance\u001b[39;00m\n\u001b[1;32m    595\u001b[0m \u001b[38;5;28;01mif\u001b[39;00m \u001b[38;5;28mhasattr\u001b[39m(\u001b[38;5;28mself\u001b[39m, \u001b[38;5;124m\"\u001b[39m\u001b[38;5;124mdiagnostics\u001b[39m\u001b[38;5;124m\"\u001b[39m):\n",
      "File \u001b[0;32m/opt/anaconda3/envs/pinn/lib/python3.13/site-packages/pde/solvers/controller.py:326\u001b[0m, in \u001b[0;36mController.run\u001b[0;34m(self, initial_state, dt)\u001b[0m\n\u001b[1;32m    323\u001b[0m \u001b[38;5;66;03m# decide whether to call the main routine or whether this is an MPI client\u001b[39;00m\n\u001b[1;32m    324\u001b[0m \u001b[38;5;28;01mif\u001b[39;00m mpi\u001b[38;5;241m.\u001b[39mis_main:\n\u001b[1;32m    325\u001b[0m     \u001b[38;5;66;03m# this node is the primary one\u001b[39;00m\n\u001b[0;32m--> 326\u001b[0m     \u001b[38;5;28mself\u001b[39m\u001b[38;5;241m.\u001b[39m_run_single(state, dt)\n\u001b[1;32m    327\u001b[0m     \u001b[38;5;28mself\u001b[39m\u001b[38;5;241m.\u001b[39minfo[\u001b[38;5;124m\"\u001b[39m\u001b[38;5;124mprocess_count\u001b[39m\u001b[38;5;124m\"\u001b[39m] \u001b[38;5;241m=\u001b[39m mpi\u001b[38;5;241m.\u001b[39msize\n\u001b[1;32m    328\u001b[0m \u001b[38;5;28;01melse\u001b[39;00m:\n\u001b[1;32m    329\u001b[0m     \u001b[38;5;66;03m# multiple processes are used and this is one of the secondaries\u001b[39;00m\n",
      "File \u001b[0;32m/opt/anaconda3/envs/pinn/lib/python3.13/site-packages/pde/solvers/controller.py:206\u001b[0m, in \u001b[0;36mController._run_single\u001b[0;34m(self, state, dt)\u001b[0m\n\u001b[1;32m    203\u001b[0m profiler[\u001b[38;5;124m\"\u001b[39m\u001b[38;5;124mtracker\u001b[39m\u001b[38;5;124m\"\u001b[39m] \u001b[38;5;241m+\u001b[39m\u001b[38;5;241m=\u001b[39m prof_start_solve \u001b[38;5;241m-\u001b[39m prof_start_tracker\n\u001b[1;32m    205\u001b[0m \u001b[38;5;66;03m# advance the system to the new time point\u001b[39;00m\n\u001b[0;32m--> 206\u001b[0m t \u001b[38;5;241m=\u001b[39m stepper(state, t, t_break)\n\u001b[1;32m    208\u001b[0m prof_start_tracker \u001b[38;5;241m=\u001b[39m get_time()\n\u001b[1;32m    209\u001b[0m profiler[\u001b[38;5;124m\"\u001b[39m\u001b[38;5;124msolver\u001b[39m\u001b[38;5;124m\"\u001b[39m] \u001b[38;5;241m+\u001b[39m\u001b[38;5;241m=\u001b[39m prof_start_tracker \u001b[38;5;241m-\u001b[39m prof_start_solve\n",
      "File \u001b[0;32m/opt/anaconda3/envs/pinn/lib/python3.13/site-packages/pde/solvers/scipy.py:86\u001b[0m, in \u001b[0;36mScipySolver.make_stepper.<locals>.stepper\u001b[0;34m(state, t_start, t_end)\u001b[0m\n\u001b[1;32m     83\u001b[0m \u001b[38;5;28;01mif\u001b[39;00m dt \u001b[38;5;129;01mis\u001b[39;00m \u001b[38;5;129;01mnot\u001b[39;00m \u001b[38;5;28;01mNone\u001b[39;00m:\n\u001b[1;32m     84\u001b[0m     \u001b[38;5;28mself\u001b[39m\u001b[38;5;241m.\u001b[39msolver_params[\u001b[38;5;124m\"\u001b[39m\u001b[38;5;124mfirst_step\u001b[39m\u001b[38;5;124m\"\u001b[39m] \u001b[38;5;241m=\u001b[39m \u001b[38;5;28mmin\u001b[39m(t_end \u001b[38;5;241m-\u001b[39m t_start, dt)\n\u001b[0;32m---> 86\u001b[0m sol \u001b[38;5;241m=\u001b[39m integrate\u001b[38;5;241m.\u001b[39msolve_ivp(\n\u001b[1;32m     87\u001b[0m     rhs_helper,\n\u001b[1;32m     88\u001b[0m     t_span\u001b[38;5;241m=\u001b[39m(t_start, t_end),\n\u001b[1;32m     89\u001b[0m     y0\u001b[38;5;241m=\u001b[39mnp\u001b[38;5;241m.\u001b[39mravel(state\u001b[38;5;241m.\u001b[39mdata),\n\u001b[1;32m     90\u001b[0m     t_eval\u001b[38;5;241m=\u001b[39m[t_end],  \u001b[38;5;66;03m# only store necessary data of the final time point\u001b[39;00m\n\u001b[1;32m     91\u001b[0m     \u001b[38;5;241m*\u001b[39m\u001b[38;5;241m*\u001b[39m\u001b[38;5;28mself\u001b[39m\u001b[38;5;241m.\u001b[39msolver_params,\n\u001b[1;32m     92\u001b[0m )\n\u001b[1;32m     93\u001b[0m \u001b[38;5;28mself\u001b[39m\u001b[38;5;241m.\u001b[39minfo[\u001b[38;5;124m\"\u001b[39m\u001b[38;5;124msteps\u001b[39m\u001b[38;5;124m\"\u001b[39m] \u001b[38;5;241m+\u001b[39m\u001b[38;5;241m=\u001b[39m sol\u001b[38;5;241m.\u001b[39mnfev\n\u001b[1;32m     94\u001b[0m state\u001b[38;5;241m.\u001b[39mdata[:] \u001b[38;5;241m=\u001b[39m sol\u001b[38;5;241m.\u001b[39my\u001b[38;5;241m.\u001b[39mreshape(shape)\n",
      "File \u001b[0;32m/opt/anaconda3/envs/pinn/lib/python3.13/site-packages/scipy/integrate/_ivp/ivp.py:621\u001b[0m, in \u001b[0;36msolve_ivp\u001b[0;34m(fun, t_span, y0, method, t_eval, dense_output, events, vectorized, args, **options)\u001b[0m\n\u001b[1;32m    618\u001b[0m \u001b[38;5;28;01mif\u001b[39;00m method \u001b[38;5;129;01min\u001b[39;00m METHODS:\n\u001b[1;32m    619\u001b[0m     method \u001b[38;5;241m=\u001b[39m METHODS[method]\n\u001b[0;32m--> 621\u001b[0m solver \u001b[38;5;241m=\u001b[39m method(fun, t0, y0, tf, vectorized\u001b[38;5;241m=\u001b[39mvectorized, \u001b[38;5;241m*\u001b[39m\u001b[38;5;241m*\u001b[39moptions)\n\u001b[1;32m    623\u001b[0m \u001b[38;5;28;01mif\u001b[39;00m t_eval \u001b[38;5;129;01mis\u001b[39;00m \u001b[38;5;28;01mNone\u001b[39;00m:\n\u001b[1;32m    624\u001b[0m     ts \u001b[38;5;241m=\u001b[39m [t0]\n",
      "File \u001b[0;32m/opt/anaconda3/envs/pinn/lib/python3.13/site-packages/scipy/integrate/_ivp/rk.py:94\u001b[0m, in \u001b[0;36mRungeKutta.__init__\u001b[0;34m(self, fun, t0, y0, t_bound, max_step, rtol, atol, vectorized, first_step, **extraneous)\u001b[0m\n\u001b[1;32m     92\u001b[0m \u001b[38;5;28mself\u001b[39m\u001b[38;5;241m.\u001b[39mmax_step \u001b[38;5;241m=\u001b[39m validate_max_step(max_step)\n\u001b[1;32m     93\u001b[0m \u001b[38;5;28mself\u001b[39m\u001b[38;5;241m.\u001b[39mrtol, \u001b[38;5;28mself\u001b[39m\u001b[38;5;241m.\u001b[39matol \u001b[38;5;241m=\u001b[39m validate_tol(rtol, atol, \u001b[38;5;28mself\u001b[39m\u001b[38;5;241m.\u001b[39mn)\n\u001b[0;32m---> 94\u001b[0m \u001b[38;5;28mself\u001b[39m\u001b[38;5;241m.\u001b[39mf \u001b[38;5;241m=\u001b[39m \u001b[38;5;28mself\u001b[39m\u001b[38;5;241m.\u001b[39mfun(\u001b[38;5;28mself\u001b[39m\u001b[38;5;241m.\u001b[39mt, \u001b[38;5;28mself\u001b[39m\u001b[38;5;241m.\u001b[39my)\n\u001b[1;32m     95\u001b[0m \u001b[38;5;28;01mif\u001b[39;00m first_step \u001b[38;5;129;01mis\u001b[39;00m \u001b[38;5;28;01mNone\u001b[39;00m:\n\u001b[1;32m     96\u001b[0m     \u001b[38;5;28mself\u001b[39m\u001b[38;5;241m.\u001b[39mh_abs \u001b[38;5;241m=\u001b[39m select_initial_step(\n\u001b[1;32m     97\u001b[0m         \u001b[38;5;28mself\u001b[39m\u001b[38;5;241m.\u001b[39mfun, \u001b[38;5;28mself\u001b[39m\u001b[38;5;241m.\u001b[39mt, \u001b[38;5;28mself\u001b[39m\u001b[38;5;241m.\u001b[39my, t_bound, max_step, \u001b[38;5;28mself\u001b[39m\u001b[38;5;241m.\u001b[39mf, \u001b[38;5;28mself\u001b[39m\u001b[38;5;241m.\u001b[39mdirection,\n\u001b[1;32m     98\u001b[0m         \u001b[38;5;28mself\u001b[39m\u001b[38;5;241m.\u001b[39merror_estimator_order, \u001b[38;5;28mself\u001b[39m\u001b[38;5;241m.\u001b[39mrtol, \u001b[38;5;28mself\u001b[39m\u001b[38;5;241m.\u001b[39matol)\n",
      "File \u001b[0;32m/opt/anaconda3/envs/pinn/lib/python3.13/site-packages/scipy/integrate/_ivp/base.py:154\u001b[0m, in \u001b[0;36mOdeSolver.__init__.<locals>.fun\u001b[0;34m(t, y)\u001b[0m\n\u001b[1;32m    152\u001b[0m \u001b[38;5;28;01mdef\u001b[39;00m \u001b[38;5;21mfun\u001b[39m(t, y):\n\u001b[1;32m    153\u001b[0m     \u001b[38;5;28mself\u001b[39m\u001b[38;5;241m.\u001b[39mnfev \u001b[38;5;241m+\u001b[39m\u001b[38;5;241m=\u001b[39m \u001b[38;5;241m1\u001b[39m\n\u001b[0;32m--> 154\u001b[0m     \u001b[38;5;28;01mreturn\u001b[39;00m \u001b[38;5;28mself\u001b[39m\u001b[38;5;241m.\u001b[39mfun_single(t, y)\n",
      "File \u001b[0;32m/opt/anaconda3/envs/pinn/lib/python3.13/site-packages/scipy/integrate/_ivp/base.py:23\u001b[0m, in \u001b[0;36mcheck_arguments.<locals>.fun_wrapped\u001b[0;34m(t, y)\u001b[0m\n\u001b[1;32m     22\u001b[0m \u001b[38;5;28;01mdef\u001b[39;00m \u001b[38;5;21mfun_wrapped\u001b[39m(t, y):\n\u001b[0;32m---> 23\u001b[0m     \u001b[38;5;28;01mreturn\u001b[39;00m np\u001b[38;5;241m.\u001b[39masarray(fun(t, y), dtype\u001b[38;5;241m=\u001b[39mdtype)\n",
      "File \u001b[0;32m/opt/anaconda3/envs/pinn/lib/python3.13/site-packages/pde/solvers/scipy.py:72\u001b[0m, in \u001b[0;36mScipySolver.make_stepper.<locals>.rhs_helper\u001b[0;34m(t, state_flat)\u001b[0m\n\u001b[1;32m     70\u001b[0m \u001b[38;5;28;01mdef\u001b[39;00m \u001b[38;5;21mrhs_helper\u001b[39m(t: \u001b[38;5;28mfloat\u001b[39m, state_flat: np\u001b[38;5;241m.\u001b[39mndarray) \u001b[38;5;241m-\u001b[39m\u001b[38;5;241m>\u001b[39m np\u001b[38;5;241m.\u001b[39mndarray:\n\u001b[1;32m     71\u001b[0m \u001b[38;5;250m    \u001b[39m\u001b[38;5;124;03m\"\"\"helper function to provide the correct call convention\"\"\"\u001b[39;00m\n\u001b[0;32m---> 72\u001b[0m     rhs_value \u001b[38;5;241m=\u001b[39m rhs(state_flat\u001b[38;5;241m.\u001b[39mreshape(shape), t)\n\u001b[1;32m     73\u001b[0m     y \u001b[38;5;241m=\u001b[39m np\u001b[38;5;241m.\u001b[39mbroadcast_to(rhs_value, shape)\u001b[38;5;241m.\u001b[39mflat\n\u001b[1;32m     74\u001b[0m     \u001b[38;5;28;01mif\u001b[39;00m np\u001b[38;5;241m.\u001b[39many(np\u001b[38;5;241m.\u001b[39misnan(y)):\n\u001b[1;32m     75\u001b[0m         \u001b[38;5;66;03m# this check is necessary, since solve_ivp does not deal correctly with\u001b[39;00m\n\u001b[1;32m     76\u001b[0m         \u001b[38;5;66;03m# NaN, which might result in odd error messages or even a stalled\u001b[39;00m\n\u001b[1;32m     77\u001b[0m         \u001b[38;5;66;03m# program\u001b[39;00m\n",
      "File \u001b[0;32m/opt/anaconda3/envs/pinn/lib/python3.13/site-packages/pde/pdes/base.py:257\u001b[0m, in \u001b[0;36mPDEBase.make_pde_rhs.<locals>.evolution_rate_numpy\u001b[0;34m(state_data, t)\u001b[0m\n\u001b[1;32m    255\u001b[0m \u001b[38;5;250m\u001b[39m\u001b[38;5;124;03m\"\"\"evaluate the rhs given only a state without the grid\"\"\"\u001b[39;00m\n\u001b[1;32m    256\u001b[0m state\u001b[38;5;241m.\u001b[39mdata \u001b[38;5;241m=\u001b[39m state_data\n\u001b[0;32m--> 257\u001b[0m \u001b[38;5;28;01mreturn\u001b[39;00m \u001b[38;5;28mself\u001b[39m\u001b[38;5;241m.\u001b[39mevolution_rate(state, t, \u001b[38;5;241m*\u001b[39m\u001b[38;5;241m*\u001b[39mkwargs)\u001b[38;5;241m.\u001b[39mdata\n",
      "Cell \u001b[0;32mIn[13], line 46\u001b[0m, in \u001b[0;36mHeatPDE.evolution_rate\u001b[0;34m(self, state, t)\u001b[0m\n\u001b[1;32m     44\u001b[0m alpha[mask_solid] \u001b[38;5;241m=\u001b[39m \u001b[38;5;28mself\u001b[39m\u001b[38;5;241m.\u001b[39mk_s \u001b[38;5;241m/\u001b[39m(\u001b[38;5;28mself\u001b[39m\u001b[38;5;241m.\u001b[39mrho_s\u001b[38;5;241m*\u001b[39m\u001b[38;5;28mself\u001b[39m\u001b[38;5;241m.\u001b[39mcp_s)\n\u001b[1;32m     45\u001b[0m alpha[mask_liquid] \u001b[38;5;241m=\u001b[39m \u001b[38;5;28mself\u001b[39m\u001b[38;5;241m.\u001b[39mk_l \u001b[38;5;241m/\u001b[39m(\u001b[38;5;28mself\u001b[39m\u001b[38;5;241m.\u001b[39mrho_l \u001b[38;5;241m*\u001b[39m\u001b[38;5;28mself\u001b[39m\u001b[38;5;241m.\u001b[39mcp_l )\n\u001b[0;32m---> 46\u001b[0m alpha[mask_mushy] \u001b[38;5;241m=\u001b[39m \u001b[38;5;28mself\u001b[39m\u001b[38;5;241m.\u001b[39mk_mus(T) \u001b[38;5;241m/\u001b[39m(\u001b[38;5;28mself\u001b[39m\u001b[38;5;241m.\u001b[39mrho_mus(T)\u001b[38;5;241m*\u001b[39m\u001b[38;5;28mself\u001b[39m\u001b[38;5;241m.\u001b[39mcp_mus(T) \u001b[38;5;241m+\u001b[39m (\u001b[38;5;28mself\u001b[39m\u001b[38;5;241m.\u001b[39ml_f \u001b[38;5;241m/\u001b[39m(\u001b[38;5;28mself\u001b[39m\u001b[38;5;241m.\u001b[39mT_l\u001b[38;5;241m-\u001b[39m\u001b[38;5;28mself\u001b[39m\u001b[38;5;241m.\u001b[39mT_s)))\n\u001b[1;32m     48\u001b[0m lap \u001b[38;5;241m=\u001b[39m state\u001b[38;5;241m.\u001b[39mlaplace(bc\u001b[38;5;241m=\u001b[39m[{\u001b[38;5;124m\"\u001b[39m\u001b[38;5;124mvalue\u001b[39m\u001b[38;5;124m\"\u001b[39m:\u001b[38;5;241m800.0\u001b[39m}, {\u001b[38;5;124m\"\u001b[39m\u001b[38;5;124mvalue\u001b[39m\u001b[38;5;124m\"\u001b[39m:\u001b[38;5;241m800.0\u001b[39m}])\n\u001b[1;32m     49\u001b[0m rate \u001b[38;5;241m=\u001b[39m alpha \u001b[38;5;241m*\u001b[39m lap\n",
      "\u001b[0;31mValueError\u001b[0m: NumPy boolean array indexing assignment cannot assign 50 input values to the 0 output values where the mask is true"
     ]
    }
   ],
   "source": [
    "storage = MemoryStorage()\n",
    "pde.solve(state, t_range=30.0, dt=1e-1, tracker=storage.tracker(0.1), solver=\"scipy\")\n",
    "\n",
    "plot_kymograph(storage, title=\"Fixed Dirichlet BCs: 400 -> 400\")"
   ]
  },
  {
   "cell_type": "code",
   "execution_count": null,
   "id": "263d6e06",
   "metadata": {},
   "outputs": [],
   "source": []
  }
 ],
 "metadata": {
  "kernelspec": {
   "display_name": "pinn",
   "language": "python",
   "name": "python3"
  },
  "language_info": {
   "codemirror_mode": {
    "name": "ipython",
    "version": 3
   },
   "file_extension": ".py",
   "mimetype": "text/x-python",
   "name": "python",
   "nbconvert_exporter": "python",
   "pygments_lexer": "ipython3",
   "version": "3.13.1"
  }
 },
 "nbformat": 4,
 "nbformat_minor": 5
}
