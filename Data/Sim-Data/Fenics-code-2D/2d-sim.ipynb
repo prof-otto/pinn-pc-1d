{
 "cells": [
  {
   "cell_type": "code",
   "execution_count": null,
   "id": "af1963aa",
   "metadata": {},
   "outputs": [],
   "source": [
    "# Import Libraries\n",
    "from dolfinx import mesh\n",
    "import numpy as np\n",
    "from mpi4py import MPI \n"
   ]
  },
  {
   "cell_type": "code",
   "execution_count": 20,
   "id": "ed33433c",
   "metadata": {},
   "outputs": [
    {
     "name": "stdout",
     "output_type": "stream",
     "text": [
      "Number of cells: 50\n",
      "Number of vertices: 51\n"
     ]
    }
   ],
   "source": [
    "# Define Geometry\n",
    "p0 = np.array([0.0, 15.0], dtype=np.float64) #unit in mm\n",
    "\n",
    "nx = 50\n",
    "\n",
    "\n",
    "domain = mesh.create_interval(MPI.COMM_WORLD, nx, p0)\n",
    "\n",
    "print(f\"Number of cells: {domain.topology.index_map(domain.topology.dim).size_local}\")\n",
    "print(f\"Number of vertices: {domain.topology.index_map(0).size_local}\")\n"
   ]
  },
  {
   "cell_type": "code",
   "execution_count": null,
   "id": "9b9f9c82",
   "metadata": {},
   "outputs": [],
   "source": [
    "\n",
    "# Generate Mesh\n",
    "V = fem.FunctionSpace(domain, (\"CG\", 1))\n",
    "\n",
    "# Setup PDE\n",
    "\n",
    "# Define Material Properties\n",
    "rho = fem.Constant(domain, 7800.0)    # Density\n",
    "cp = fem.Constant(domain, 500.0)      # Specific heat\n",
    "k = fem.Constant(domain, 45.0)         # Thermal conductivity\n",
    "\n",
    "# Define Boundary Conditions\n",
    "# Define Initial Conditions\n",
    "T_init = fem.Constant(domain, 900.0)\n",
    "T_n = fem.Function(V)\n",
    "T_n.interpolate(lambda x: 900.0)\n",
    "# Define Time Stepping\n",
    "\n",
    "dt = 0.1  # seconds\n",
    "dt_const = fem.Constant(domain, dt)\n",
    "\n",
    "# Solve PDE\n",
    "\n",
    "# Extract Results\n",
    "# Post-process Results\n",
    "# Visualize Results\n",
    "# Save Results\n",
    "# Save Mesh\n",
    "# Save Simulation Data\n",
    "\n",
    "\n"
   ]
  }
 ],
 "metadata": {
  "kernelspec": {
   "display_name": "fenicsx-env",
   "language": "python",
   "name": "python3"
  },
  "language_info": {
   "codemirror_mode": {
    "name": "ipython",
    "version": 3
   },
   "file_extension": ".py",
   "mimetype": "text/x-python",
   "name": "python",
   "nbconvert_exporter": "python",
   "pygments_lexer": "ipython3",
   "version": "3.13.3"
  }
 },
 "nbformat": 4,
 "nbformat_minor": 5
}
