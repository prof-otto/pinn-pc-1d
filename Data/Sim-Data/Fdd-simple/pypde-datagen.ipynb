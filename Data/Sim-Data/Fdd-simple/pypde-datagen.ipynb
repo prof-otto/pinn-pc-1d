{
 "cells": [
  {
   "cell_type": "code",
   "execution_count": 1,
   "metadata": {},
   "outputs": [],
   "source": [
    "import math\n",
    "import numpy as np\n",
    "import matplotlib.pyplot as plt\n",
    "\n",
    "import pde\n"
   ]
  },
  {
   "cell_type": "markdown",
   "metadata": {},
   "source": [
    "## Generate the geometry"
   ]
  },
  {
   "cell_type": "code",
   "execution_count": null,
   "metadata": {},
   "outputs": [
    {
     "name": "stdout",
     "output_type": "stream",
     "text": [
      "CartesianGrid(bounds=((np.float64(0.0), np.float64(0.015)),), shape=(50,), periodic=[False])\n"
     ]
    }
   ],
   "source": [
    "grid = pde.CartesianGrid([[0, 15e-3]],[50], periodic=[False])\n",
    "\n",
    "print(grid)\n"
   ]
  },
  {
   "cell_type": "markdown",
   "metadata": {},
   "source": [
    "## Set inital and boundary conditions"
   ]
  },
  {
   "cell_type": "code",
   "execution_count": 3,
   "metadata": {},
   "outputs": [
    {
     "name": "stdout",
     "output_type": "stream",
     "text": [
      "ScalarField(grid=CartesianGrid(bounds=((np.float64(0.0), np.float64(0.015)),), shape=(50,), periodic=[False]), data=Array(50,))\n"
     ]
    }
   ],
   "source": [
    "initial_data = np.full(grid.shape, 919.0)\n",
    "\n",
    "field = pde.ScalarField(grid,data=initial_data)\n",
    "print(field)"
   ]
  },
  {
   "cell_type": "markdown",
   "metadata": {},
   "source": [
    "## Define PDE"
   ]
  },
  {
   "cell_type": "code",
   "execution_count": 10,
   "metadata": {},
   "outputs": [
    {
     "ename": "BCDataError",
     "evalue": "Boundary conditions `['x-', 'x+']` are not supported.",
     "output_type": "error",
     "traceback": [
      "\u001b[0;31m---------------------------------------------------------------------------\u001b[0m",
      "\u001b[0;31mBCDataError\u001b[0m                               Traceback (most recent call last)",
      "Cell \u001b[0;32mIn[10], line 4\u001b[0m\n\u001b[1;32m      2\u001b[0m bc_left \u001b[38;5;241m=\u001b[39m {\u001b[38;5;124m\"\u001b[39m\u001b[38;5;124mderivative\u001b[39m\u001b[38;5;124m\"\u001b[39m: \u001b[38;5;241m0.1\u001b[39m}\n\u001b[1;32m      3\u001b[0m bc_right \u001b[38;5;241m=\u001b[39m {\u001b[38;5;124m\"\u001b[39m\u001b[38;5;124mderivative\u001b[39m\u001b[38;5;124m\"\u001b[39m: \u001b[38;5;241m0.1\u001b[39m}\n\u001b[0;32m----> 4\u001b[0m field\u001b[38;5;241m.\u001b[39mlaplace(bc\u001b[38;5;241m=\u001b[39m{\u001b[38;5;124m\"\u001b[39m\u001b[38;5;124mx-\u001b[39m\u001b[38;5;124m\"\u001b[39m: bc_left, \u001b[38;5;124m\"\u001b[39m\u001b[38;5;124mx+\u001b[39m\u001b[38;5;124m\"\u001b[39m: bc_right})\n\u001b[1;32m      5\u001b[0m eq \u001b[38;5;241m=\u001b[39m DiffusionPDE(diffusivity\u001b[38;5;241m=\u001b[39m\u001b[38;5;241m1.0e-6\u001b[39m)\n",
      "File \u001b[0;32m/opt/anaconda3/envs/pinn/lib/python3.13/site-packages/pde/fields/scalar.py:206\u001b[0m, in \u001b[0;36mScalarField.laplace\u001b[0;34m(self, bc, out, **kwargs)\u001b[0m\n\u001b[1;32m    183\u001b[0m \u001b[38;5;129m@fill_in_docstring\u001b[39m\n\u001b[1;32m    184\u001b[0m \u001b[38;5;28;01mdef\u001b[39;00m \u001b[38;5;21mlaplace\u001b[39m(\n\u001b[1;32m    185\u001b[0m     \u001b[38;5;28mself\u001b[39m,\n\u001b[0;32m   (...)\u001b[0m\n\u001b[1;32m    188\u001b[0m     \u001b[38;5;241m*\u001b[39m\u001b[38;5;241m*\u001b[39mkwargs,\n\u001b[1;32m    189\u001b[0m ) \u001b[38;5;241m-\u001b[39m\u001b[38;5;241m>\u001b[39m ScalarField:\n\u001b[1;32m    190\u001b[0m \u001b[38;5;250m    \u001b[39m\u001b[38;5;124;03m\"\"\"apply Laplace operator and return result as a field\u001b[39;00m\n\u001b[1;32m    191\u001b[0m \n\u001b[1;32m    192\u001b[0m \u001b[38;5;124;03m    Args:\u001b[39;00m\n\u001b[0;32m   (...)\u001b[0m\n\u001b[1;32m    204\u001b[0m \u001b[38;5;124;03m        :class:`~pde.fields.scalar.ScalarField`: the Laplacian of the field\u001b[39;00m\n\u001b[1;32m    205\u001b[0m \u001b[38;5;124;03m    \"\"\"\u001b[39;00m\n\u001b[0;32m--> 206\u001b[0m     \u001b[38;5;28;01mreturn\u001b[39;00m \u001b[38;5;28mself\u001b[39m\u001b[38;5;241m.\u001b[39mapply_operator(\u001b[38;5;124m\"\u001b[39m\u001b[38;5;124mlaplace\u001b[39m\u001b[38;5;124m\"\u001b[39m, bc\u001b[38;5;241m=\u001b[39mbc, out\u001b[38;5;241m=\u001b[39mout, \u001b[38;5;241m*\u001b[39m\u001b[38;5;241m*\u001b[39mkwargs)\n",
      "File \u001b[0;32m/opt/anaconda3/envs/pinn/lib/python3.13/site-packages/pde/fields/base.py:1637\u001b[0m, in \u001b[0;36mDataFieldBase.apply_operator\u001b[0;34m(self, operator, bc, out, label, args, **kwargs)\u001b[0m\n\u001b[1;32m   1635\u001b[0m op_raw \u001b[38;5;241m=\u001b[39m \u001b[38;5;28mself\u001b[39m\u001b[38;5;241m.\u001b[39mgrid\u001b[38;5;241m.\u001b[39mmake_operator_no_bc(operator_info, \u001b[38;5;241m*\u001b[39m\u001b[38;5;241m*\u001b[39mkwargs)\n\u001b[1;32m   1636\u001b[0m \u001b[38;5;28;01mif\u001b[39;00m bc \u001b[38;5;129;01mis\u001b[39;00m \u001b[38;5;129;01mnot\u001b[39;00m \u001b[38;5;28;01mNone\u001b[39;00m:\n\u001b[0;32m-> 1637\u001b[0m     \u001b[38;5;28mself\u001b[39m\u001b[38;5;241m.\u001b[39mset_ghost_cells(bc, args\u001b[38;5;241m=\u001b[39margs)  \u001b[38;5;66;03m# impose boundary conditions\u001b[39;00m\n\u001b[1;32m   1638\u001b[0m \u001b[38;5;66;03m# apply the operator without imposing boundary conditions\u001b[39;00m\n\u001b[1;32m   1639\u001b[0m op_raw(\u001b[38;5;28mself\u001b[39m\u001b[38;5;241m.\u001b[39m_data_full, out\u001b[38;5;241m.\u001b[39mdata)\n",
      "File \u001b[0;32m/opt/anaconda3/envs/pinn/lib/python3.13/site-packages/pde/fields/base.py:1531\u001b[0m, in \u001b[0;36mDataFieldBase.set_ghost_cells\u001b[0;34m(self, bc, args)\u001b[0m\n\u001b[1;32m   1519\u001b[0m \u001b[38;5;129m@fill_in_docstring\u001b[39m\n\u001b[1;32m   1520\u001b[0m \u001b[38;5;28;01mdef\u001b[39;00m \u001b[38;5;21mset_ghost_cells\u001b[39m(\u001b[38;5;28mself\u001b[39m, bc: BoundariesData, \u001b[38;5;241m*\u001b[39m, args\u001b[38;5;241m=\u001b[39m\u001b[38;5;28;01mNone\u001b[39;00m) \u001b[38;5;241m-\u001b[39m\u001b[38;5;241m>\u001b[39m \u001b[38;5;28;01mNone\u001b[39;00m:\n\u001b[1;32m   1521\u001b[0m \u001b[38;5;250m    \u001b[39m\u001b[38;5;124;03m\"\"\"set the boundary values on virtual points for all boundaries\u001b[39;00m\n\u001b[1;32m   1522\u001b[0m \n\u001b[1;32m   1523\u001b[0m \u001b[38;5;124;03m    Args:\u001b[39;00m\n\u001b[0;32m   (...)\u001b[0m\n\u001b[1;32m   1529\u001b[0m \u001b[38;5;124;03m            conditions.\u001b[39;00m\n\u001b[1;32m   1530\u001b[0m \u001b[38;5;124;03m    \"\"\"\u001b[39;00m\n\u001b[0;32m-> 1531\u001b[0m     bcs \u001b[38;5;241m=\u001b[39m \u001b[38;5;28mself\u001b[39m\u001b[38;5;241m.\u001b[39mgrid\u001b[38;5;241m.\u001b[39mget_boundary_conditions(bc, rank\u001b[38;5;241m=\u001b[39m\u001b[38;5;28mself\u001b[39m\u001b[38;5;241m.\u001b[39mrank)\n\u001b[1;32m   1532\u001b[0m     bcs\u001b[38;5;241m.\u001b[39mset_ghost_cells(\u001b[38;5;28mself\u001b[39m\u001b[38;5;241m.\u001b[39m_data_full, args\u001b[38;5;241m=\u001b[39margs)\n",
      "File \u001b[0;32m/opt/anaconda3/envs/pinn/lib/python3.13/site-packages/pde/grids/base.py:817\u001b[0m, in \u001b[0;36mGridBase.get_boundary_conditions\u001b[0;34m(self, bc, rank)\u001b[0m\n\u001b[1;32m    813\u001b[0m \u001b[38;5;28;01mfrom\u001b[39;00m \u001b[38;5;21;01m.\u001b[39;00m\u001b[38;5;21;01mboundaries\u001b[39;00m \u001b[38;5;28;01mimport\u001b[39;00m Boundaries  \u001b[38;5;66;03m# @Reimport\u001b[39;00m\n\u001b[1;32m    815\u001b[0m \u001b[38;5;28;01mif\u001b[39;00m \u001b[38;5;28mself\u001b[39m\u001b[38;5;241m.\u001b[39m_mesh \u001b[38;5;129;01mis\u001b[39;00m \u001b[38;5;28;01mNone\u001b[39;00m:\n\u001b[1;32m    816\u001b[0m     \u001b[38;5;66;03m# get boundary conditions for a simple grid that is not part of a mesh\u001b[39;00m\n\u001b[0;32m--> 817\u001b[0m     bcs \u001b[38;5;241m=\u001b[39m Boundaries\u001b[38;5;241m.\u001b[39mfrom_data(\u001b[38;5;28mself\u001b[39m, bc, rank\u001b[38;5;241m=\u001b[39mrank)\n\u001b[1;32m    819\u001b[0m \u001b[38;5;28;01melse\u001b[39;00m:\n\u001b[1;32m    820\u001b[0m     \u001b[38;5;66;03m# this grid is part of a mesh and we thus need to set special conditions to\u001b[39;00m\n\u001b[1;32m    821\u001b[0m     \u001b[38;5;66;03m# support parallelism via MPI. We here assume that bc is given for the full\u001b[39;00m\n\u001b[1;32m    822\u001b[0m     \u001b[38;5;66;03m# system and not\u001b[39;00m\n\u001b[1;32m    823\u001b[0m     bcs_base \u001b[38;5;241m=\u001b[39m Boundaries\u001b[38;5;241m.\u001b[39mfrom_data(\u001b[38;5;28mself\u001b[39m\u001b[38;5;241m.\u001b[39m_mesh\u001b[38;5;241m.\u001b[39mbasegrid, bc, rank\u001b[38;5;241m=\u001b[39mrank)\n",
      "File \u001b[0;32m/opt/anaconda3/envs/pinn/lib/python3.13/site-packages/pde/grids/boundaries/axes.py:143\u001b[0m, in \u001b[0;36mBoundaries.from_data\u001b[0;34m(cls, grid, boundaries, rank)\u001b[0m\n\u001b[1;32m    139\u001b[0m bcs \u001b[38;5;241m=\u001b[39m \u001b[38;5;28;01mNone\u001b[39;00m\n\u001b[1;32m    140\u001b[0m \u001b[38;5;28;01mif\u001b[39;00m \u001b[38;5;28misinstance\u001b[39m(boundaries, (\u001b[38;5;28mstr\u001b[39m, \u001b[38;5;28mdict\u001b[39m)):\n\u001b[1;32m    141\u001b[0m     \u001b[38;5;66;03m# one specification for all axes\u001b[39;00m\n\u001b[1;32m    142\u001b[0m     bcs \u001b[38;5;241m=\u001b[39m [\n\u001b[0;32m--> 143\u001b[0m         get_boundary_axis(grid, i, boundaries, rank\u001b[38;5;241m=\u001b[39mrank)\n\u001b[1;32m    144\u001b[0m         \u001b[38;5;28;01mfor\u001b[39;00m i \u001b[38;5;129;01min\u001b[39;00m \u001b[38;5;28mrange\u001b[39m(grid\u001b[38;5;241m.\u001b[39mnum_axes)\n\u001b[1;32m    145\u001b[0m     ]\n\u001b[1;32m    147\u001b[0m \u001b[38;5;28;01melif\u001b[39;00m \u001b[38;5;28mhasattr\u001b[39m(boundaries, \u001b[38;5;124m\"\u001b[39m\u001b[38;5;124m__len__\u001b[39m\u001b[38;5;124m\"\u001b[39m):\n\u001b[1;32m    148\u001b[0m     \u001b[38;5;66;03m# handle cases that look like sequences\u001b[39;00m\n\u001b[1;32m    149\u001b[0m     \u001b[38;5;28;01mif\u001b[39;00m \u001b[38;5;28mlen\u001b[39m(boundaries) \u001b[38;5;241m==\u001b[39m grid\u001b[38;5;241m.\u001b[39mnum_axes:\n\u001b[1;32m    150\u001b[0m         \u001b[38;5;66;03m# assume that data is given for each boundary\u001b[39;00m\n",
      "File \u001b[0;32m/opt/anaconda3/envs/pinn/lib/python3.13/site-packages/pde/grids/boundaries/axis.py:422\u001b[0m, in \u001b[0;36mget_boundary_axis\u001b[0;34m(grid, axis, data, rank)\u001b[0m\n\u001b[1;32m    419\u001b[0m     bcs \u001b[38;5;241m=\u001b[39m BoundaryPeriodic(grid, axis)\n\u001b[1;32m    420\u001b[0m \u001b[38;5;28;01melse\u001b[39;00m:\n\u001b[1;32m    421\u001b[0m     \u001b[38;5;66;03m# initialize independent boundary conditions for the two sides\u001b[39;00m\n\u001b[0;32m--> 422\u001b[0m     bcs \u001b[38;5;241m=\u001b[39m BoundaryPair\u001b[38;5;241m.\u001b[39mfrom_data(grid, axis, data, rank\u001b[38;5;241m=\u001b[39mrank)\n\u001b[1;32m    424\u001b[0m \u001b[38;5;66;03m# check consistency\u001b[39;00m\n\u001b[1;32m    425\u001b[0m \u001b[38;5;28;01mif\u001b[39;00m bcs\u001b[38;5;241m.\u001b[39mperiodic \u001b[38;5;241m!=\u001b[39m grid\u001b[38;5;241m.\u001b[39mperiodic[axis]:\n",
      "File \u001b[0;32m/opt/anaconda3/envs/pinn/lib/python3.13/site-packages/pde/grids/boundaries/axis.py:270\u001b[0m, in \u001b[0;36mBoundaryPair.from_data\u001b[0;34m(cls, grid, axis, data, rank)\u001b[0m\n\u001b[1;32m    267\u001b[0m             \u001b[38;5;28;01mraise\u001b[39;00m BCDataError(\u001b[38;5;124mf\u001b[39m\u001b[38;5;124m\"\u001b[39m\u001b[38;5;124mData items \u001b[39m\u001b[38;5;132;01m{\u001b[39;00mdata_copy\u001b[38;5;241m.\u001b[39mkeys()\u001b[38;5;132;01m}\u001b[39;00m\u001b[38;5;124m were not used.\u001b[39m\u001b[38;5;124m\"\u001b[39m)\n\u001b[1;32m    268\u001b[0m     \u001b[38;5;28;01melse\u001b[39;00m:\n\u001b[1;32m    269\u001b[0m         \u001b[38;5;66;03m# one condition for both sides\u001b[39;00m\n\u001b[0;32m--> 270\u001b[0m         low \u001b[38;5;241m=\u001b[39m BCBase\u001b[38;5;241m.\u001b[39mfrom_data(grid, axis, upper\u001b[38;5;241m=\u001b[39m\u001b[38;5;28;01mFalse\u001b[39;00m, data\u001b[38;5;241m=\u001b[39mdata, rank\u001b[38;5;241m=\u001b[39mrank)\n\u001b[1;32m    271\u001b[0m         high \u001b[38;5;241m=\u001b[39m BCBase\u001b[38;5;241m.\u001b[39mfrom_data(grid, axis, upper\u001b[38;5;241m=\u001b[39m\u001b[38;5;28;01mTrue\u001b[39;00m, data\u001b[38;5;241m=\u001b[39mdata, rank\u001b[38;5;241m=\u001b[39mrank)\n\u001b[1;32m    273\u001b[0m \u001b[38;5;28;01melif\u001b[39;00m \u001b[38;5;28misinstance\u001b[39m(data, (\u001b[38;5;28mstr\u001b[39m, BCBase)):\n\u001b[1;32m    274\u001b[0m     \u001b[38;5;66;03m# a type for both boundaries\u001b[39;00m\n",
      "File \u001b[0;32m/opt/anaconda3/envs/pinn/lib/python3.13/site-packages/pde/grids/boundaries/local.py:539\u001b[0m, in \u001b[0;36mBCBase.from_data\u001b[0;34m(cls, grid, axis, upper, data, rank)\u001b[0m\n\u001b[1;32m    535\u001b[0m     bc \u001b[38;5;241m=\u001b[39m data\u001b[38;5;241m.\u001b[39mcopy(upper\u001b[38;5;241m=\u001b[39mupper)\n\u001b[1;32m    537\u001b[0m \u001b[38;5;28;01melif\u001b[39;00m \u001b[38;5;28misinstance\u001b[39m(data, \u001b[38;5;28mdict\u001b[39m):\n\u001b[1;32m    538\u001b[0m     \u001b[38;5;66;03m# create from dictionary\u001b[39;00m\n\u001b[0;32m--> 539\u001b[0m     bc \u001b[38;5;241m=\u001b[39m \u001b[38;5;28mcls\u001b[39m\u001b[38;5;241m.\u001b[39mfrom_dict(grid, axis, upper\u001b[38;5;241m=\u001b[39mupper, data\u001b[38;5;241m=\u001b[39mdata, rank\u001b[38;5;241m=\u001b[39mrank)\n\u001b[1;32m    541\u001b[0m \u001b[38;5;28;01melif\u001b[39;00m \u001b[38;5;28misinstance\u001b[39m(data, \u001b[38;5;28mstr\u001b[39m):\n\u001b[1;32m    542\u001b[0m     \u001b[38;5;66;03m# create a specific condition given by a string\u001b[39;00m\n\u001b[1;32m    543\u001b[0m     bc \u001b[38;5;241m=\u001b[39m \u001b[38;5;28mcls\u001b[39m\u001b[38;5;241m.\u001b[39mfrom_str(grid, axis, upper\u001b[38;5;241m=\u001b[39mupper, condition\u001b[38;5;241m=\u001b[39mdata, rank\u001b[38;5;241m=\u001b[39mrank)\n",
      "File \u001b[0;32m/opt/anaconda3/envs/pinn/lib/python3.13/site-packages/pde/grids/boundaries/local.py:486\u001b[0m, in \u001b[0;36mBCBase.from_dict\u001b[0;34m(cls, grid, axis, upper, data, rank)\u001b[0m\n\u001b[1;32m    481\u001b[0m     \u001b[38;5;28;01mreturn\u001b[39;00m \u001b[38;5;28mcls\u001b[39m\u001b[38;5;241m.\u001b[39mfrom_str(\n\u001b[1;32m    482\u001b[0m         grid, axis, upper, condition\u001b[38;5;241m=\u001b[39mb_type, rank\u001b[38;5;241m=\u001b[39mrank, value\u001b[38;5;241m=\u001b[39mb_value, \u001b[38;5;241m*\u001b[39m\u001b[38;5;241m*\u001b[39mdata\n\u001b[1;32m    483\u001b[0m     )\n\u001b[1;32m    485\u001b[0m \u001b[38;5;28;01melse\u001b[39;00m:\n\u001b[0;32m--> 486\u001b[0m     \u001b[38;5;28;01mraise\u001b[39;00m BCDataError(\n\u001b[1;32m    487\u001b[0m         \u001b[38;5;124mf\u001b[39m\u001b[38;5;124m\"\u001b[39m\u001b[38;5;124mBoundary conditions `\u001b[39m\u001b[38;5;132;01m{\u001b[39;00m\u001b[38;5;28mstr\u001b[39m(\u001b[38;5;28mlist\u001b[39m(data\u001b[38;5;241m.\u001b[39mkeys()))\u001b[38;5;132;01m}\u001b[39;00m\u001b[38;5;124m` are not supported.\u001b[39m\u001b[38;5;124m\"\u001b[39m\n\u001b[1;32m    488\u001b[0m     )\n",
      "\u001b[0;31mBCDataError\u001b[0m: Boundary conditions `['x-', 'x+']` are not supported."
     ]
    }
   ],
   "source": [
    "from pde import DiffusionPDE\n",
    "bc_left = {\"derivative\": 0.1}\n",
    "bc_right = {\"derivative\": 0.1}\n",
    "field.laplace(bc={\"x-\": bc_left, \"x+\": bc_right})\n",
    "eq = DiffusionPDE(diffusivity=1.0e-6)"
   ]
  },
  {
   "cell_type": "markdown",
   "metadata": {},
   "source": [
    "## Run simulation"
   ]
  },
  {
   "cell_type": "code",
   "execution_count": 8,
   "metadata": {},
   "outputs": [
    {
     "name": "stderr",
     "output_type": "stream",
     "text": [
      "100%|██████████| 10.0/10.0 [00:00<00:00, 99.02it/s]   \n"
     ]
    }
   ],
   "source": [
    "storage = pde.MemoryStorage()\n",
    "result = eq.solve(field, t_range=10, dt=1e-3, tracker=[\"progress\", storage.tracker(1)])"
   ]
  },
  {
   "cell_type": "markdown",
   "metadata": {},
   "source": [
    "## Plot Results"
   ]
  },
  {
   "cell_type": "code",
   "execution_count": 9,
   "metadata": {},
   "outputs": [
    {
     "name": "stdout",
     "output_type": "stream",
     "text": [
      "t=0, field=919.0000000000001\n",
      "t=1.0, field=919.0000000000001\n",
      "t=2.0, field=919.0000000000001\n",
      "t=3.0, field=919.0000000000001\n",
      "t=4.0, field=919.0000000000001\n",
      "t=5.0, field=919.0000000000001\n",
      "t=6.0, field=919.0000000000001\n",
      "t=7.0, field=919.0000000000001\n",
      "t=8.0, field=919.0000000000001\n",
      "t=9.0, field=919.0000000000001\n",
      "t=10.0, field=919.0000000000001\n"
     ]
    }
   ],
   "source": [
    "for time, field in storage.items():\n",
    "    print(f\"t={time}, field={field.magnitude}\")"
   ]
  },
  {
   "cell_type": "markdown",
   "metadata": {},
   "source": [
    "## Save the Results in CSV  format for ML training"
   ]
  },
  {
   "cell_type": "markdown",
   "metadata": {},
   "source": []
  }
 ],
 "metadata": {
  "kernelspec": {
   "display_name": "pinn",
   "language": "python",
   "name": "python3"
  },
  "language_info": {
   "codemirror_mode": {
    "name": "ipython",
    "version": 3
   },
   "file_extension": ".py",
   "mimetype": "text/x-python",
   "name": "python",
   "nbconvert_exporter": "python",
   "pygments_lexer": "ipython3",
   "version": "3.13.1"
  }
 },
 "nbformat": 4,
 "nbformat_minor": 2
}
