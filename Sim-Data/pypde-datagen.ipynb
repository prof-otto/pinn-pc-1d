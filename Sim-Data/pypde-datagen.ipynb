{
 "cells": [
  {
   "cell_type": "code",
   "execution_count": 2,
   "metadata": {},
   "outputs": [],
   "source": [
    "import math\n",
    "import numpy as np\n",
    "import matplotlib.pyplot as plt\n",
    "\n",
    "import pde\n"
   ]
  },
  {
   "cell_type": "markdown",
   "metadata": {},
   "source": [
    "## Generate the geometry"
   ]
  },
  {
   "cell_type": "code",
   "execution_count": 15,
   "metadata": {},
   "outputs": [],
   "source": [
    "grid = pde.CartesianGrid([[0, 15e-3]],[50], periodic=[False])\n"
   ]
  },
  {
   "cell_type": "markdown",
   "metadata": {},
   "source": [
    "## Set inital and boundary conditions"
   ]
  },
  {
   "cell_type": "code",
   "execution_count": 25,
   "metadata": {},
   "outputs": [
    {
     "data": {
      "text/plain": [
       "ScalarField(grid=CartesianGrid(bounds=((np.float64(0.0), np.float64(0.015)),), shape=(50,), periodic=[False]), data=[-9.31111111e+09  0.00000000e+00  0.00000000e+00  0.00000000e+00\n",
       "  0.00000000e+00  0.00000000e+00  0.00000000e+00  0.00000000e+00\n",
       "  0.00000000e+00  0.00000000e+00  0.00000000e+00  0.00000000e+00\n",
       "  0.00000000e+00  0.00000000e+00  0.00000000e+00  0.00000000e+00\n",
       "  0.00000000e+00  0.00000000e+00  0.00000000e+00  0.00000000e+00\n",
       "  0.00000000e+00  0.00000000e+00  0.00000000e+00  0.00000000e+00\n",
       "  0.00000000e+00  0.00000000e+00  0.00000000e+00  0.00000000e+00\n",
       "  0.00000000e+00  0.00000000e+00  0.00000000e+00  0.00000000e+00\n",
       "  0.00000000e+00  0.00000000e+00  0.00000000e+00  0.00000000e+00\n",
       "  0.00000000e+00  0.00000000e+00  0.00000000e+00  0.00000000e+00\n",
       "  0.00000000e+00  0.00000000e+00  0.00000000e+00  0.00000000e+00\n",
       "  0.00000000e+00  0.00000000e+00  0.00000000e+00  0.00000000e+00\n",
       "  0.00000000e+00 -9.31111111e+09])"
      ]
     },
     "execution_count": 25,
     "metadata": {},
     "output_type": "execute_result"
    }
   ],
   "source": [
    "initial_data = np.full(grid.shape, 919.0)\n",
    "field = pde.ScalarField(grid,data=initial_data)\n",
    "\n",
    "field.laplace(bc={'value':500.0})"
   ]
  },
  {
   "cell_type": "markdown",
   "metadata": {},
   "source": [
    "## Define PDE"
   ]
  },
  {
   "cell_type": "markdown",
   "metadata": {},
   "source": [
    "## Run simulation"
   ]
  },
  {
   "cell_type": "markdown",
   "metadata": {},
   "source": [
    "## Plot Results"
   ]
  },
  {
   "cell_type": "markdown",
   "metadata": {},
   "source": [
    "## Save the Results in CSV  format for ML training"
   ]
  },
  {
   "cell_type": "markdown",
   "metadata": {},
   "source": []
  }
 ],
 "metadata": {
  "kernelspec": {
   "display_name": "pinn",
   "language": "python",
   "name": "python3"
  },
  "language_info": {
   "codemirror_mode": {
    "name": "ipython",
    "version": 3
   },
   "file_extension": ".py",
   "mimetype": "text/x-python",
   "name": "python",
   "nbconvert_exporter": "python",
   "pygments_lexer": "ipython3",
   "version": "3.13.1"
  }
 },
 "nbformat": 4,
 "nbformat_minor": 2
}
